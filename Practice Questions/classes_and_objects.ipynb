{
 "cells": [
  {
   "cell_type": "code",
   "execution_count": 63,
   "id": "bd986b0f",
   "metadata": {},
   "outputs": [],
   "source": [
    "## Parent class\n",
    "class Animal:\n",
    "    def __init__(self, name):\n",
    "        self.name = name\n",
    "    \n",
    "    def speak(self):\n",
    "        print(f\"{self.name} makes a sound.\")\n",
    "    \n",
    "    def age(self, age):\n",
    "        print(f\"{self.name}'s age is {age}\")\n",
    "    \n",
    "    def is_alive(self, flag):\n",
    "        if flag:\n",
    "            print(f\"{self.name} is alive\")\n",
    "        else:\n",
    "            print(f\"{self.name} is dead!\")\n",
    "    def goodlooks(self):\n",
    "        print(f\"{self.name} is having good looks\")"
   ]
  },
  {
   "cell_type": "code",
   "execution_count": 64,
   "id": "673ff58a",
   "metadata": {},
   "outputs": [],
   "source": [
    "# Sub class\n",
    "class Cat(Animal):\n",
    "    def __init__(self,name,look):\n",
    "        super().__init__(name)\n",
    "        self.look = look\n",
    "    \n",
    "    def goodlooks(self):\n",
    "        print(f\"{self.name} is having {self.look}\")\n"
   ]
  },
  {
   "cell_type": "code",
   "execution_count": 65,
   "id": "5e1eade3",
   "metadata": {},
   "outputs": [],
   "source": [
    "object1 = Cat('Tommy', 'beautiful eyes')"
   ]
  },
  {
   "cell_type": "code",
   "execution_count": 66,
   "id": "b8f5afa8",
   "metadata": {},
   "outputs": [
    {
     "name": "stdout",
     "output_type": "stream",
     "text": [
      "Tommy's age is 5\n"
     ]
    }
   ],
   "source": [
    "object1.age(5)"
   ]
  },
  {
   "cell_type": "code",
   "execution_count": 67,
   "id": "dc624ef7",
   "metadata": {},
   "outputs": [
    {
     "name": "stdout",
     "output_type": "stream",
     "text": [
      "Tommy is dead!\n"
     ]
    }
   ],
   "source": [
    "object1.is_alive(False)"
   ]
  },
  {
   "cell_type": "code",
   "execution_count": 69,
   "id": "a8b4495b",
   "metadata": {},
   "outputs": [
    {
     "name": "stdout",
     "output_type": "stream",
     "text": [
      "Tommy is having beautiful eyes\n"
     ]
    }
   ],
   "source": [
    "object1.goodlooks()"
   ]
  }
 ],
 "metadata": {
  "kernelspec": {
   "display_name": "Python 3",
   "language": "python",
   "name": "python3"
  },
  "language_info": {
   "codemirror_mode": {
    "name": "ipython",
    "version": 3
   },
   "file_extension": ".py",
   "mimetype": "text/x-python",
   "name": "python",
   "nbconvert_exporter": "python",
   "pygments_lexer": "ipython3",
   "version": "3.9.13"
  }
 },
 "nbformat": 4,
 "nbformat_minor": 5
}
